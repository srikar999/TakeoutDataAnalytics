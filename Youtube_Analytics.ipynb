{
  "nbformat": 4,
  "nbformat_minor": 0,
  "metadata": {
    "colab": {
      "name": "Youtube_Analytics.ipynb",
      "provenance": [],
      "mount_file_id": "1D7rdpsb_qkaYcEDzP6Tup6fiW4DwenOh",
      "authorship_tag": "ABX9TyPsxWhnkEN40fY+y2jYyi8Q",
      "include_colab_link": true
    },
    "kernelspec": {
      "name": "python3",
      "display_name": "Python 3"
    },
    "language_info": {
      "name": "python"
    }
  },
  "cells": [
    {
      "cell_type": "markdown",
      "metadata": {
        "id": "view-in-github",
        "colab_type": "text"
      },
      "source": [
        "<a href=\"https://colab.research.google.com/github/srikar999/TakeoutDataAnalytics/blob/main/Youtube_Analytics.ipynb\" target=\"_parent\"><img src=\"https://colab.research.google.com/assets/colab-badge.svg\" alt=\"Open In Colab\"/></a>"
      ]
    },
    {
      "cell_type": "code",
      "execution_count": null,
      "metadata": {
        "id": "9wzjrbyERZAH"
      },
      "outputs": [],
      "source": [
        "!pip install pyspark"
      ]
    },
    {
      "cell_type": "code",
      "source": [
        "from pyspark.sql import SparkSession\n",
        "import pyspark.sql.functions as F\n",
        "import pandas as pd"
      ],
      "metadata": {
        "id": "DC-irvIlSips"
      },
      "execution_count": 8,
      "outputs": []
    },
    {
      "cell_type": "code",
      "source": [
        "spark = SparkSession.builder.master(\"local\").appName(\"Test\").getOrCreate()"
      ],
      "metadata": {
        "id": "_mo0YPeHTI8a"
      },
      "execution_count": 9,
      "outputs": []
    },
    {
      "cell_type": "code",
      "source": [
        "spark"
      ],
      "metadata": {
        "id": "VSEkixm5TPNy"
      },
      "execution_count": null,
      "outputs": []
    },
    {
      "cell_type": "markdown",
      "source": [
        "# Channels Subscribed"
      ],
      "metadata": {
        "id": "7RaQ1NuOxDHP"
      }
    },
    {
      "cell_type": "code",
      "source": [
        "subs=spark.read.option(\"inferSchema\",True)\\\n",
        ".csv(\"/content/drive/MyDrive/Takeout_Project/input/Takeout/YouTube and YouTube Music/subscriptions/subscriptions.csv\",header=True)\n",
        "subs=subs.agg(F.countDistinct(\"Channel Id\").alias(\"value\"))\n",
        "subs=subs.withColumn(\"load_dt\",F.current_timestamp()).withColumn(\"fact\",F.lit(\"Channels Subscribed\"))\n",
        "subs=subs.withColumn(\"year\",F.year(F.col(\"load_dt\"))).withColumn(\"month\",F.month(F.col(\"load_dt\")))\n",
        "op_path=\"/content/drive/MyDrive/Takeout_Project/outputs/Youtube/subs_count/\"\n",
        "subs.coalesce(1).write.mode(\"overwrite\").csv(op_path,header=True)"
      ],
      "metadata": {
        "id": "Mn0jgYy1atMr"
      },
      "execution_count": 117,
      "outputs": []
    },
    {
      "cell_type": "markdown",
      "source": [
        "#Playlist data"
      ],
      "metadata": {
        "id": "Fb_Te2lR_smY"
      }
    },
    {
      "cell_type": "code",
      "source": [
        "import os\n",
        "play_list_files=\"/content/drive/MyDrive/Takeout_Project/input/Takeout/YouTube and YouTube Music/playlists/\"\n",
        "df = pd.DataFrame()\n",
        "df[\"year\"]=[]\n",
        "df[\"month\"]=[]\n",
        "df[\"Time Added_ts\"]=[]\n",
        "df[\"playlist\"]=[]\n",
        "df[\"count\"]=[]\n",
        "for i in os.listdir(play_list_files):\n",
        "    playlist=pd.read_csv(play_list_files+i,skiprows=3)\n",
        "    playlist[\"playlist\"]=i.split(\".\")[0]\n",
        "    playlist['Time Added_ts']=pd.to_datetime(playlist['Time Added'], format='%Y-%m-%d %H:%M:%S UTC')\n",
        "    playlist[\"year\"]=playlist[\"Time Added_ts\"].dt.year\n",
        "    playlist[\"month\"]=playlist[\"Time Added_ts\"].dt.month\n",
        "    playlist[\"day\"]=playlist[\"Time Added_ts\"].dt.day\n",
        "    #display(playlist)\n",
        "    playlist=playlist[[\"Video Id\",\"year\",\"month\",\"Time Added_ts\",\"playlist\"]].groupby([\"year\",\"month\",\"Time Added_ts\",\"playlist\"]).count().reset_index()\n",
        "    playlist[\"count\"]=playlist[\"Video Id\"]\n",
        "    df=pd.concat([df,playlist[[\"year\",\"month\",\"Time Added_ts\",\"playlist\",\"count\"]]])\n",
        "df.to_csv(\"/content/drive/MyDrive/Takeout_Project/outputs/Youtube/Playlist_data.csv\",)\n"
      ],
      "metadata": {
        "id": "lNNPtP_GyrJw"
      },
      "execution_count": 118,
      "outputs": []
    },
    {
      "cell_type": "code",
      "source": [
        "for i in os.listdir(op_path):\n",
        "  if \"csv\" in i:\n",
        "    if \"csv.crc\" not in i:\n",
        "      os.rename(op_path+i, op_path+\"subs_count.csv\")"
      ],
      "metadata": {
        "id": "DRyFvWwf0gah"
      },
      "execution_count": 119,
      "outputs": []
    }
  ]
}