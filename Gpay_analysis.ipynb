{
  "nbformat": 4,
  "nbformat_minor": 0,
  "metadata": {
    "colab": {
      "name": "Gpay_analysis.ipynb",
      "provenance": [],
      "mount_file_id": "19smFDt_rBdzAFdVDiX3Wtm2d6Vmu3ngm",
      "authorship_tag": "ABX9TyMXEVy77JoyG3GSezF+Rw9H",
      "include_colab_link": true
    },
    "kernelspec": {
      "name": "python3",
      "display_name": "Python 3"
    },
    "language_info": {
      "name": "python"
    }
  },
  "cells": [
    {
      "cell_type": "markdown",
      "metadata": {
        "id": "view-in-github",
        "colab_type": "text"
      },
      "source": [
        "<a href=\"https://colab.research.google.com/github/srikar999/TakeoutDataAnalytics/blob/main/Gpay_analysis.ipynb\" target=\"_parent\"><img src=\"https://colab.research.google.com/assets/colab-badge.svg\" alt=\"Open In Colab\"/></a>"
      ]
    },
    {
      "cell_type": "code",
      "execution_count": 84,
      "metadata": {
        "colab": {
          "base_uri": "https://localhost:8080/"
        },
        "id": "HQLdhAGoL3iR",
        "outputId": "6bb111d7-e5b5-48b5-f125-03cb6b5bddb1"
      },
      "outputs": [
        {
          "output_type": "stream",
          "name": "stdout",
          "text": [
            "Requirement already satisfied: pyspark in /usr/local/lib/python3.7/dist-packages (3.2.0)\n",
            "Requirement already satisfied: py4j==0.10.9.2 in /usr/local/lib/python3.7/dist-packages (from pyspark) (0.10.9.2)\n"
          ]
        }
      ],
      "source": [
        "!pip install pyspark"
      ]
    },
    {
      "cell_type": "code",
      "source": [
        "from pyspark.sql import SparkSession\n",
        "import pyspark.sql.functions as F\n",
        "import pandas as pd"
      ],
      "metadata": {
        "id": "1LHnmt_WMvvN"
      },
      "execution_count": 95,
      "outputs": []
    },
    {
      "cell_type": "code",
      "source": [
        "spark = SparkSession.builder.master(\"local\").appName(\"Gpay_nb\").getOrCreate()"
      ],
      "metadata": {
        "id": "Y2_ikuJSMxut"
      },
      "execution_count": 96,
      "outputs": []
    },
    {
      "cell_type": "code",
      "source": [
        "import os\n",
        "from pyspark.sql.types import DoubleType,IntegerType"
      ],
      "metadata": {
        "id": "JB5DrEwXNwAV"
      },
      "execution_count": 97,
      "outputs": []
    },
    {
      "cell_type": "code",
      "source": [
        "inp=\"/content/drive/MyDrive/Takeout_Project/input/Takeout/Google Pay/Google transactions/\"\n",
        "oup=\"/content/drive/MyDrive/Takeout_Project/outputs/Gpay/\"\n",
        "txns=spark.read.option(\"inferSchema\",True).option(\"charset\", \"ISO-8859-1\").csv(inp,header=True)\n",
        "txns=txns.withColumn(\"year\",F.trim(F.split(F.col(\"Time\"),\",\")[1]))\n",
        "txns=txns.withColumn(\"amt\",F.regexp_replace(F.col(\"Amount\"), \"[^A-Z0-9_.]\", \"\"))\n",
        "txns=txns.withColumn(\"amt_d\",F.trim(F.split(F.col(\"amt\"),\"INR\")[1]).cast(DoubleType()))\n",
        "txns_agg=txns.groupBy(\"Product\",\"Payment method\",\"Status\",\"year\").agg(F.sum(\"amt_d\").alias(\"amount\"))\n",
        "txns_agg_p=txns_agg.toPandas()\n",
        "txns_agg_p.to_csv(oup+\"google_txns_data.csv\",index=False)"
      ],
      "metadata": {
        "id": "pODIK-bIO_j8"
      },
      "execution_count": 98,
      "outputs": []
    },
    {
      "cell_type": "code",
      "source": [
        "rewards_ip=\"/content/drive/MyDrive/Takeout_Project/input/Takeout/Google Pay/Rewards earned/Cashback Rewards.csv\"\n",
        "rewards=spark.read.option(\"inferSchema\",True).option(\"charset\", \"ISO-8859-1\").csv(rewards_ip,header=True)\n",
        "rewards=rewards.withColumn(\"Date\",F.to_timestamp(F.col(\"Date\")))\n",
        "rewards=rewards.groupBy(\"Date\").agg(F.sum(\"Reward Amount\").alias(\"amount\"))\n",
        "rewards=rewards.withColumn(\"year\",F.year(F.col(\"Date\"))).withColumn(\"month\",F.month(F.col(\"Date\")))\n",
        "rewards_p=rewards.toPandas()\n",
        "rewards_p.to_csv(oup+\"rewards_data.csv\",index=False)"
      ],
      "metadata": {
        "id": "qkwcgujDQNsf"
      },
      "execution_count": 99,
      "outputs": []
    }
  ]
}